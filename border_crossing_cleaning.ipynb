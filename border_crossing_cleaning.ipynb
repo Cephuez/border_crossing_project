{
 "cells": [
  {
   "cell_type": "code",
   "execution_count": 2,
   "id": "0da0439b-ed91-4705-8c4c-d5dc891fc21d",
   "metadata": {},
   "outputs": [],
   "source": [
    "from pyspark.sql import SparkSession\n",
    "from pyspark.sql.types import IntegerType\n",
    "from pyspark.sql.window import Window\n",
    "import pyspark.sql.functions as F"
   ]
  },
  {
   "cell_type": "code",
   "execution_count": 45,
   "id": "137a0455-473b-4203-b9b5-437ea79486f7",
   "metadata": {},
   "outputs": [],
   "source": [
    "spark = SparkSession.builder.getOrCreate()\n",
    "spark.sparkContext.setLogLevel(\"WARN\")"
   ]
  },
  {
   "cell_type": "code",
   "execution_count": 87,
   "id": "be1e7b42-277f-47de-b189-90ea575720fc",
   "metadata": {},
   "outputs": [],
   "source": [
    "df = spark.read.csv (\n",
    "    \"Border_Crossing_Entry_Data.csv\",\n",
    "    sep = \",\",\n",
    "    header = True,\n",
    "    inferSchema = True,\n",
    ")"
   ]
  },
  {
   "cell_type": "code",
   "execution_count": 88,
   "id": "ece42d60-958b-4fe2-aca7-b6c07424e8d0",
   "metadata": {},
   "outputs": [
    {
     "name": "stdout",
     "output_type": "stream",
     "text": [
      "+-------------+------------+---------+----------------+--------+--------------------+------+--------+---------+--------------------+\n",
      "|    Port Name|       State|Port Code|          Border|    Date|             Measure| Value|Latitude|Longitude|               Point|\n",
      "+-------------+------------+---------+----------------+--------+--------------------+------+--------+---------+--------------------+\n",
      "|      Jackman|       Maine|      104|US-Canada Border|Jan 2024|              Trucks|  6556|  45.806|  -70.397|POINT (-70.396722...|\n",
      "|     Porthill|       Idaho|     3308|US-Canada Border|Apr 2024|              Trucks|    98|    49.0| -116.499|POINT (-116.49925...|\n",
      "|     San Luis|     Arizona|     2608|US-Mexico Border|Apr 2024|               Buses|    10|  32.485| -114.782|POINT (-114.78222...|\n",
      "| Willow Creek|     Montana|     3325|US-Canada Border|Jan 2024|         Pedestrians|     2|    49.0| -109.731|POINT (-109.73133...|\n",
      "|      Warroad|   Minnesota|     3423|US-Canada Border|Jan 2024|Personal Vehicle ...|  9266|  48.999|  -95.377|POINT (-95.376555...|\n",
      "|     Whitlash|     Montana|     3321|US-Canada Border|Jan 2024|   Personal Vehicles|    29|  48.997| -111.258|POINT (-111.25791...|\n",
      "|       Ysleta|       Texas|     2401|US-Mexico Border|Jan 2024|Personal Vehicle ...|521714|  31.673| -106.335|POINT (-106.33544...|\n",
      "|      Warroad|   Minnesota|     3423|US-Canada Border|Jan 2024|              Trucks|   837|  48.999|  -95.377|POINT (-95.376555...|\n",
      "|    Wildhorse|     Montana|     3323|US-Canada Border|Jan 2024|              Trucks|    20|  48.999| -110.215|POINT (-110.21508...|\n",
      "|    Wildhorse|     Montana|     3323|US-Canada Border|Jan 2024|Personal Vehicle ...|   965|  48.999| -110.215|POINT (-110.21508...|\n",
      "|      Warroad|   Minnesota|     3423|US-Canada Border|Jan 2024|      Bus Passengers|   278|  48.999|  -95.377|POINT (-95.376555...|\n",
      "|     Westhope|North Dakota|     3419|US-Canada Border|Jan 2024|Truck Containers ...|   102|    49.0| -101.017|POINT (-101.01727...|\n",
      "|      Warroad|   Minnesota|     3423|US-Canada Border|Jan 2024|Truck Containers ...|   459|  48.999|  -95.377|POINT (-95.376555...|\n",
      "|       Ysleta|       Texas|     2401|US-Mexico Border|Jan 2024|Truck Containers ...| 21355|  31.673| -106.335|POINT (-106.33544...|\n",
      "|   Sweetgrass|     Montana|     3310|US-Canada Border|Jan 2024|Truck Containers ...|  1985|  48.998|  -111.96|POINT (-111.95961...|\n",
      "|  Brownsville|       Texas|     2301|US-Mexico Border|Jan 2024|Rail Containers E...|  7712|  25.952|  -97.401|POINT (-97.40067 ...|\n",
      "|        Sumas|  Washington|     3009|US-Canada Border|Jan 2024|      Bus Passengers|   327|  49.002| -122.265|POINT (-122.26480...|\n",
      "|    Madawaska|       Maine|      109|US-Canada Border|Jan 2024|Truck Containers ...|   130|   47.36|  -68.329|POINT (-68.328684...|\n",
      "| Dalton Cache|      Alaska|     3106|US-Canada Border|Jan 2024|Truck Containers ...|    21|  59.451| -136.362|POINT (-136.36194...|\n",
      "|Calexico East|  California|     2507|US-Mexico Border|Jan 2024|Personal Vehicle ...|435768|  32.673| -115.388|POINT (-115.38801...|\n",
      "+-------------+------------+---------+----------------+--------+--------------------+------+--------+---------+--------------------+\n",
      "only showing top 20 rows\n",
      "\n"
     ]
    }
   ],
   "source": [
    "df.show()"
   ]
  },
  {
   "cell_type": "code",
   "execution_count": 89,
   "id": "fbbd7c60-92b5-4ba2-a0f3-101d8d3a3f90",
   "metadata": {},
   "outputs": [],
   "source": [
    "# Rename columns\n",
    "df = df.withColumnRenamed(\"Port Name\", \"Port_Name\")\n",
    "\n",
    "df = df.withColumnRenamed(\"Port Code\", \"Port_Code\")\n",
    "\n",
    "# Rename values to crossing count\n",
    "df = df.withColumnRenamed(\"Value\", \"Crossing_Count\")"
   ]
  },
  {
   "cell_type": "code",
   "execution_count": 90,
   "id": "64059f77-f534-4f6a-882f-499af57dd09a",
   "metadata": {},
   "outputs": [],
   "source": [
    "# Reformat the date\n",
    "df = df.withColumn(\"Date\", F.date_format(F.to_date(F.col(\"Date\"), \"MMM yyyy\"), \"MM-yyyy\"))"
   ]
  },
  {
   "cell_type": "code",
   "execution_count": null,
   "id": "e2fca934-daa3-487c-be64-dfa2317b4462",
   "metadata": {},
   "outputs": [],
   "source": []
  },
  {
   "cell_type": "code",
   "execution_count": 91,
   "id": "a74d971a-0abd-4534-9cc7-c26fab4b2c3a",
   "metadata": {},
   "outputs": [],
   "source": [
    "# Remove Unnecessary Columns\n",
    "df_2 = df.drop(\"Point\")"
   ]
  },
  {
   "cell_type": "code",
   "execution_count": 92,
   "id": "84fdab8d-49e4-4afa-8e5c-1e75dd127be3",
   "metadata": {},
   "outputs": [],
   "source": [
    "# Create Table\n",
    "df_2.createOrReplaceTempView(\"Border_Table\")"
   ]
  },
  {
   "cell_type": "code",
   "execution_count": 93,
   "id": "0e90689a-0a28-452c-ba32-70424c0357c3",
   "metadata": {},
   "outputs": [
    {
     "name": "stdout",
     "output_type": "stream",
     "text": [
      "root\n",
      " |-- Port_Name: string (nullable = true)\n",
      " |-- State: string (nullable = true)\n",
      " |-- Port_Code: integer (nullable = true)\n",
      " |-- Border: string (nullable = true)\n",
      " |-- Date: string (nullable = true)\n",
      " |-- Measure: string (nullable = true)\n",
      " |-- Crossing_Count: integer (nullable = true)\n",
      " |-- Latitude: double (nullable = true)\n",
      " |-- Longitude: double (nullable = true)\n",
      "\n"
     ]
    }
   ],
   "source": [
    "df_2.printSchema()"
   ]
  },
  {
   "cell_type": "code",
   "execution_count": 94,
   "id": "308403da-82d9-483b-bb5a-155e0907248f",
   "metadata": {},
   "outputs": [
    {
     "name": "stdout",
     "output_type": "stream",
     "text": [
      "+-------------+------------+---------+----------------+-------+--------------------+--------------+--------+---------+\n",
      "|    Port_Name|       State|Port_Code|          Border|   Date|             Measure|Crossing_Count|Latitude|Longitude|\n",
      "+-------------+------------+---------+----------------+-------+--------------------+--------------+--------+---------+\n",
      "|      Jackman|       Maine|      104|US-Canada Border|01-2024|              Trucks|          6556|  45.806|  -70.397|\n",
      "|     Porthill|       Idaho|     3308|US-Canada Border|04-2024|              Trucks|            98|    49.0| -116.499|\n",
      "|     San Luis|     Arizona|     2608|US-Mexico Border|04-2024|               Buses|            10|  32.485| -114.782|\n",
      "| Willow Creek|     Montana|     3325|US-Canada Border|01-2024|         Pedestrians|             2|    49.0| -109.731|\n",
      "|      Warroad|   Minnesota|     3423|US-Canada Border|01-2024|Personal Vehicle ...|          9266|  48.999|  -95.377|\n",
      "|     Whitlash|     Montana|     3321|US-Canada Border|01-2024|   Personal Vehicles|            29|  48.997| -111.258|\n",
      "|       Ysleta|       Texas|     2401|US-Mexico Border|01-2024|Personal Vehicle ...|        521714|  31.673| -106.335|\n",
      "|      Warroad|   Minnesota|     3423|US-Canada Border|01-2024|              Trucks|           837|  48.999|  -95.377|\n",
      "|    Wildhorse|     Montana|     3323|US-Canada Border|01-2024|              Trucks|            20|  48.999| -110.215|\n",
      "|    Wildhorse|     Montana|     3323|US-Canada Border|01-2024|Personal Vehicle ...|           965|  48.999| -110.215|\n",
      "|      Warroad|   Minnesota|     3423|US-Canada Border|01-2024|      Bus Passengers|           278|  48.999|  -95.377|\n",
      "|     Westhope|North Dakota|     3419|US-Canada Border|01-2024|Truck Containers ...|           102|    49.0| -101.017|\n",
      "|      Warroad|   Minnesota|     3423|US-Canada Border|01-2024|Truck Containers ...|           459|  48.999|  -95.377|\n",
      "|       Ysleta|       Texas|     2401|US-Mexico Border|01-2024|Truck Containers ...|         21355|  31.673| -106.335|\n",
      "|   Sweetgrass|     Montana|     3310|US-Canada Border|01-2024|Truck Containers ...|          1985|  48.998|  -111.96|\n",
      "|  Brownsville|       Texas|     2301|US-Mexico Border|01-2024|Rail Containers E...|          7712|  25.952|  -97.401|\n",
      "|        Sumas|  Washington|     3009|US-Canada Border|01-2024|      Bus Passengers|           327|  49.002| -122.265|\n",
      "|    Madawaska|       Maine|      109|US-Canada Border|01-2024|Truck Containers ...|           130|   47.36|  -68.329|\n",
      "| Dalton Cache|      Alaska|     3106|US-Canada Border|01-2024|Truck Containers ...|            21|  59.451| -136.362|\n",
      "|Calexico East|  California|     2507|US-Mexico Border|01-2024|Personal Vehicle ...|        435768|  32.673| -115.388|\n",
      "+-------------+------------+---------+----------------+-------+--------------------+--------------+--------+---------+\n",
      "only showing top 20 rows\n",
      "\n"
     ]
    }
   ],
   "source": [
    "df_2.show()"
   ]
  },
  {
   "cell_type": "code",
   "execution_count": 98,
   "id": "e66303ef-5d99-4d50-9311-c31752ceb06b",
   "metadata": {},
   "outputs": [
    {
     "name": "stdout",
     "output_type": "stream",
     "text": [
      "+-------+\n",
      "|Date   |\n",
      "+-------+\n",
      "|08-2006|\n",
      "|06-2023|\n",
      "|04-2002|\n",
      "|09-2000|\n",
      "|11-2010|\n",
      "|07-1998|\n",
      "|09-2023|\n",
      "|10-2020|\n",
      "|02-2009|\n",
      "|11-2019|\n",
      "|01-1999|\n",
      "|12-2015|\n",
      "|05-2013|\n",
      "|07-2010|\n",
      "|05-2021|\n",
      "|03-2007|\n",
      "|12-2008|\n",
      "|04-2000|\n",
      "|08-2022|\n",
      "|04-2022|\n",
      "|01-2015|\n",
      "|01-2018|\n",
      "|05-2009|\n",
      "|11-2001|\n",
      "|07-2000|\n",
      "|05-2016|\n",
      "|04-2006|\n",
      "|11-1998|\n",
      "|09-2020|\n",
      "|09-2006|\n",
      "|06-1999|\n",
      "|02-2007|\n",
      "|05-1998|\n",
      "|04-2013|\n",
      "|03-2006|\n",
      "|12-2004|\n",
      "|03-2019|\n",
      "|09-2010|\n",
      "|05-2018|\n",
      "|06-2007|\n",
      "|04-2015|\n",
      "|06-2011|\n",
      "|10-1999|\n",
      "|10-2002|\n",
      "|01-2007|\n",
      "|11-2021|\n",
      "|07-2017|\n",
      "|07-1999|\n",
      "|05-1996|\n",
      "|07-2021|\n",
      "+-------+\n",
      "only showing top 50 rows\n",
      "\n"
     ]
    }
   ],
   "source": [
    "query = \"\"\"\n",
    "    SELECT DISTINCT Date\n",
    "    FROM BORDER_TABLE\n",
    "\"\"\"\n",
    "\n",
    "spark.sql(query).show(50, False)"
   ]
  },
  {
   "cell_type": "code",
   "execution_count": 99,
   "id": "f63980dc-d4a0-4e1b-8917-0a789613db72",
   "metadata": {},
   "outputs": [
    {
     "name": "stdout",
     "output_type": "stream",
     "text": [
      "+-------------+------------+---------+----------------+-------+--------------------+--------------+--------+---------+\n",
      "|    Port_Name|       State|Port_Code|          Border|   Date|             Measure|Crossing_Count|Latitude|Longitude|\n",
      "+-------------+------------+---------+----------------+-------+--------------------+--------------+--------+---------+\n",
      "|      Jackman|       Maine|      104|US-Canada Border|01-2024|              Trucks|          6556|  45.806|  -70.397|\n",
      "|     Porthill|       Idaho|     3308|US-Canada Border|04-2024|              Trucks|            98|    49.0| -116.499|\n",
      "|     San Luis|     Arizona|     2608|US-Mexico Border|04-2024|               Buses|            10|  32.485| -114.782|\n",
      "| Willow Creek|     Montana|     3325|US-Canada Border|01-2024|         Pedestrians|             2|    49.0| -109.731|\n",
      "|      Warroad|   Minnesota|     3423|US-Canada Border|01-2024|Personal Vehicle ...|          9266|  48.999|  -95.377|\n",
      "|     Whitlash|     Montana|     3321|US-Canada Border|01-2024|   Personal Vehicles|            29|  48.997| -111.258|\n",
      "|       Ysleta|       Texas|     2401|US-Mexico Border|01-2024|Personal Vehicle ...|        521714|  31.673| -106.335|\n",
      "|      Warroad|   Minnesota|     3423|US-Canada Border|01-2024|              Trucks|           837|  48.999|  -95.377|\n",
      "|    Wildhorse|     Montana|     3323|US-Canada Border|01-2024|              Trucks|            20|  48.999| -110.215|\n",
      "|    Wildhorse|     Montana|     3323|US-Canada Border|01-2024|Personal Vehicle ...|           965|  48.999| -110.215|\n",
      "|      Warroad|   Minnesota|     3423|US-Canada Border|01-2024|      Bus Passengers|           278|  48.999|  -95.377|\n",
      "|     Westhope|North Dakota|     3419|US-Canada Border|01-2024|Truck Containers ...|           102|    49.0| -101.017|\n",
      "|      Warroad|   Minnesota|     3423|US-Canada Border|01-2024|Truck Containers ...|           459|  48.999|  -95.377|\n",
      "|       Ysleta|       Texas|     2401|US-Mexico Border|01-2024|Truck Containers ...|         21355|  31.673| -106.335|\n",
      "|   Sweetgrass|     Montana|     3310|US-Canada Border|01-2024|Truck Containers ...|          1985|  48.998|  -111.96|\n",
      "|  Brownsville|       Texas|     2301|US-Mexico Border|01-2024|Rail Containers E...|          7712|  25.952|  -97.401|\n",
      "|        Sumas|  Washington|     3009|US-Canada Border|01-2024|      Bus Passengers|           327|  49.002| -122.265|\n",
      "|    Madawaska|       Maine|      109|US-Canada Border|01-2024|Truck Containers ...|           130|   47.36|  -68.329|\n",
      "| Dalton Cache|      Alaska|     3106|US-Canada Border|01-2024|Truck Containers ...|            21|  59.451| -136.362|\n",
      "|Calexico East|  California|     2507|US-Mexico Border|01-2024|Personal Vehicle ...|        435768|  32.673| -115.388|\n",
      "+-------------+------------+---------+----------------+-------+--------------------+--------------+--------+---------+\n",
      "only showing top 20 rows\n",
      "\n"
     ]
    }
   ],
   "source": [
    "df_2.show()"
   ]
  },
  {
   "cell_type": "code",
   "execution_count": 100,
   "id": "43a06bad-7318-4c10-97ea-149fbc1e231a",
   "metadata": {},
   "outputs": [],
   "source": [
    "data = df_2.toPandas()\n",
    "data.to_csv('Border_Crossing_Entry_Data_Final.csv', index=False)"
   ]
  },
  {
   "cell_type": "code",
   "execution_count": null,
   "id": "cb8ef9bb-90bf-4755-852e-7ef92639f544",
   "metadata": {},
   "outputs": [],
   "source": []
  }
 ],
 "metadata": {
  "kernelspec": {
   "display_name": "Python 3 (ipykernel)",
   "language": "python",
   "name": "python3"
  },
  "language_info": {
   "codemirror_mode": {
    "name": "ipython",
    "version": 3
   },
   "file_extension": ".py",
   "mimetype": "text/x-python",
   "name": "python",
   "nbconvert_exporter": "python",
   "pygments_lexer": "ipython3",
   "version": "3.10.17"
  }
 },
 "nbformat": 4,
 "nbformat_minor": 5
}
